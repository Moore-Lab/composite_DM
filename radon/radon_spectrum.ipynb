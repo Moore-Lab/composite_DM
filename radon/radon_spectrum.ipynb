{
 "cells": [
  {
   "cell_type": "code",
   "execution_count": 2,
   "metadata": {},
   "outputs": [],
   "source": [
    "import numpy as np\n",
    "import matplotlib.pyplot as plt\n",
    "from glob import glob\n",
    "import h5py\n",
    "from scipy.signal import find_peaks\n",
    "from scipy.optimize import curve_fit"
   ]
  },
  {
   "cell_type": "code",
   "execution_count": 3,
   "metadata": {},
   "outputs": [],
   "source": [
    "data_path = \"/Volumes/GoogleDrive-108630187434314716047/My Drive/yale/uspheres/radon/5/\"\n",
    "flist = glob(data_path + \"Alpha*.h5\")\n",
    "\n",
    "Fs = 125e6/8 ## Hz, decimation factor 8\n",
    "\n",
    "alpha_dict = {'Po-212': 8784.86, 'Bi-212': 6050.8, 'Rn-220': 6288.1, 'Po-216': 6778.3}"
   ]
  },
  {
   "cell_type": "code",
   "execution_count": 4,
   "metadata": {},
   "outputs": [],
   "source": [
    "def create_trap_filt(Fs, trise, ttop):\n",
    "    nrise = int(trise*Fs)\n",
    "    ntop = int(ttop*Fs)\n",
    "\n",
    "    rise_vec = np.linspace(0,1,nrise)\n",
    "    top_vec = np.ones(ntop)\n",
    "\n",
    "    out_vec = np.hstack( (rise_vec, top_vec, rise_vec[::-1]) )\n",
    "\n",
    "    if(False):\n",
    "        plt.plot(out_vec)\n",
    "    \n",
    "    return out_vec/np.sum(out_vec)"
   ]
  },
  {
   "cell_type": "code",
   "execution_count": 5,
   "metadata": {},
   "outputs": [],
   "source": [
    "def trap_filt(y, temp):\n",
    "    return np.convolve(y, temp, mode='same')"
   ]
  },
  {
   "cell_type": "code",
   "execution_count": 6,
   "metadata": {},
   "outputs": [],
   "source": [
    "def ffn(x, A, t0, rt=2.7976149071029696e-07, ft=1.533437162044799e-05):\n",
    "    xx = x-t0\n",
    "    xx[xx < 0] = 0\n",
    "    out_vec = A*np.exp(-xx/ft)*(1-np.exp(-xx/rt))\n",
    "    out_vec[x < t0] = 0\n",
    "    return out_vec"
   ]
  },
  {
   "cell_type": "code",
   "execution_count": 7,
   "metadata": {},
   "outputs": [],
   "source": [
    "def make_template_pulse(flist, npulses):\n",
    "    \n",
    "    fit_vec = np.zeros( (npulses, 4) )\n",
    "    for i,f in enumerate(flist[:npulses]):\n",
    "\n",
    "        currf = h5py.File(f, 'r')\n",
    "\n",
    "        t, v = np.array(currf['time']), np.array(currf['voltage'])\n",
    "\n",
    "        spars = [-5,1e-6,10e-6,4e-4]\n",
    "        bp,_ = curve_fit(ffn, t, v, p0=spars)\n",
    "\n",
    "        fit_vec[i,:] = bp\n",
    "\n",
    "    return fit_vec\n"
   ]
  },
  {
   "cell_type": "code",
   "execution_count": 8,
   "metadata": {},
   "outputs": [
    {
     "name": "stderr",
     "output_type": "stream",
     "text": [
      "/var/folders/sz/h29lm_2j53v8vmw0zm_6hxqm0000gn/T/ipykernel_49209/1945116580.py:4: RuntimeWarning: overflow encountered in exp\n",
      "  out_vec = A*np.exp(-xx/ft)*(1-np.exp(-xx/rt))\n",
      "/var/folders/sz/h29lm_2j53v8vmw0zm_6hxqm0000gn/T/ipykernel_49209/1945116580.py:4: RuntimeWarning: invalid value encountered in multiply\n",
      "  out_vec = A*np.exp(-xx/ft)*(1-np.exp(-xx/rt))\n",
      "/var/folders/sz/h29lm_2j53v8vmw0zm_6hxqm0000gn/T/ipykernel_49209/1945116580.py:4: RuntimeWarning: overflow encountered in multiply\n",
      "  out_vec = A*np.exp(-xx/ft)*(1-np.exp(-xx/rt))\n"
     ]
    }
   ],
   "source": [
    "bp = make_template_pulse(flist, 100)"
   ]
  },
  {
   "cell_type": "code",
   "execution_count": 9,
   "metadata": {},
   "outputs": [
    {
     "name": "stdout",
     "output_type": "stream",
     "text": [
      "0.00047506084417841193 3.6957404337551564e-07\n"
     ]
    },
    {
     "data": {
      "image/png": "[encoded data removed]",
      "text/plain": [
       "<Figure size 432x288 with 1 Axes>"
      ]
     },
     "metadata": {
      "needs_background": "light"
     },
     "output_type": "display_data"
    },
    {
     "data": {
      "image/png": "[encoded data removed]",
      "text/plain": [
       "<Figure size 432x288 with 1 Axes>"
      ]
     },
     "metadata": {
      "needs_background": "light"
     },
     "output_type": "display_data"
    }
   ],
   "source": [
    "\n",
    "\n",
    "plt.figure()\n",
    "plt.plot(bp[:,1], '.')\n",
    "\n",
    "plt.figure()\n",
    "plt.plot(bp[:,2], '.')\n",
    "\n",
    "print(np.median(bp[:,1]), np.median(bp[:,2]))"
   ]
  },
  {
   "cell_type": "code",
   "execution_count": 77,
   "metadata": {},
   "outputs": [
    {
     "name": "stdout",
     "output_type": "stream",
     "text": [
      "Working on file 0\n",
      "Working on file 1000\n",
      "Working on file 2000\n",
      "Working on file 3000\n",
      "Working on file 4000\n",
      "Working on file 5000\n"
     ]
    }
   ],
   "source": [
    "remake_file = True\n",
    "do_fit = True\n",
    "\n",
    "tf = create_trap_filt(Fs, 1e-6, 5e-6)\n",
    "\n",
    "filt_dat = []\n",
    "\n",
    "for i,f in enumerate(flist):\n",
    "\n",
    "    if( i % 1000 == 0): print(\"Working on file %d\"%i)\n",
    "\n",
    "    currf = h5py.File(f, 'r')\n",
    "\n",
    "    t, v = np.array(currf['time']), np.array(currf['voltage'])\n",
    "\n",
    "    v -= np.median(v[:1000])\n",
    "\n",
    "    v_trap_filt = -1 * trap_filt(v, tf) #flip right side up\n",
    "    s = np.std(v_trap_filt[:2000])\n",
    "    max_deriv = np.max(np.gradient(v_trap_filt)) #maximum of the derivative to throw out slow pulses\n",
    "\n",
    "    ## find all the peaks\n",
    "    peaks, _ = find_peaks(v_trap_filt, height = 10*s, distance=1000)\n",
    "    for p in peaks:\n",
    "        ## baseline just before:\n",
    "        bl = np.median(v_trap_filt[(p-200):(p-100)])\n",
    "\n",
    "        if(do_fit):\n",
    "            gpts = (t > t[p-300]) & (t > t[p+500])\n",
    "            try:\n",
    "                bp,_ = curve_fit(ffn, t, v, p0=[v_trap_filt[p], t[p]])\n",
    "                chi2 = np.sum( (v[gpts] - ffn(t[gpts], *bp))**2 ) \n",
    "            except:\n",
    "                bp = [0,0]\n",
    "                chi2 = -1\n",
    "        else:\n",
    "            bp = [0,0]\n",
    "            chi2 = -1\n",
    "\n",
    "        ## 0: filtered amplitude, 1: maximum of the derivative, 2: baseline, 3: fit amplitude, 4: fit chi2, 5: file index\n",
    "        filt_dat.append([v_trap_filt[p], max_deriv, bl, bp[0], chi2, i])\n",
    "\n",
    "        #ispo216 = (bp[0]>-3.65 and bp[0]< -3.6)\n",
    "        if(False):\n",
    "            print(chi2, np.polyval([10,-10,35], bp[0]))\n",
    "            plt.figure(figsize=(12,4))\n",
    "            plt.subplot(1,2,2)\n",
    "            plt.plot(t,-v)\n",
    "            plt.plot(t,v_trap_filt)\n",
    "            plt.plot(t, -ffn(t, *bp) )\n",
    "            #plt.xlim(t[p-300], t[p+500])\n",
    "\n",
    "            plt.subplot(1,2,1)\n",
    "            currf = h5py.File(flist[i-1], 'r')\n",
    "            t, v = np.array(currf['time']), np.array(currf['voltage'])\n",
    "            plt.plot(t,-v)\n",
    "            plt.show()\n",
    "\n",
    "\n",
    "if(remake_file):\n",
    "    np.save(\"pulse_heights.npy\", filt_dat)"
   ]
  },
  {
   "cell_type": "code",
   "execution_count": 79,
   "metadata": {},
   "outputs": [
    {
     "data": {
      "text/plain": [
       "[<matplotlib.lines.Line2D at 0x128830a90>]"
      ]
     },
     "execution_count": 79,
     "metadata": {},
     "output_type": "execute_result"
    },
    {
     "data": {
      "image/png": "[encoded data removed]",
      "text/plain": [
       "<Figure size 432x288 with 1 Axes>"
      ]
     },
     "metadata": {
      "needs_background": "light"
     },
     "output_type": "display_data"
    },
    {
     "data": {
      "image/png": "[encoded data removed]",
      "text/plain": [
       "<Figure size 432x288 with 1 Axes>"
      ]
     },
     "metadata": {
      "needs_background": "light"
     },
     "output_type": "display_data"
    }
   ],
   "source": [
    "filt_dat = np.load(\"pulse_heights.npy\")\n",
    "xx = np.linspace(0,-5,100)\n",
    "plt.plot(filt_dat[:,3], filt_dat[:,4], '.', ms=1)\n",
    "plt.plot(xx, np.polyval([10,-10,30], xx), 'r')\n",
    "plt.ylim(0,500)\n",
    "\n",
    "plt.figure()\n",
    "plt.plot(filt_dat[:,0], filt_dat[:,3], '.', ms=1)"
   ]
  },
  {
   "cell_type": "code",
   "execution_count": 82,
   "metadata": {},
   "outputs": [],
   "source": [
    "bins = np.linspace(0, 5, 1500)\n",
    "h, b = np.histogram(filt_dat[:,3], bins=600) #bins)\n",
    "hfilt, bfilt = np.histogram(filt_dat[:,0], bins=600) #bins)\n",
    "bc = b[:-1] + np.diff(b)/2\n",
    "bcfilt = bfilt[:-1] + np.diff(bfilt)/2"
   ]
  },
  {
   "cell_type": "code",
   "execution_count": 87,
   "metadata": {},
   "outputs": [
    {
     "ename": "IndexError",
     "evalue": "index 300 is out of bounds for axis 0 with size 99",
     "output_type": "error",
     "traceback": [
      "\u001b[0;31m---------------------------------------------------------------------------\u001b[0m",
      "\u001b[0;31mIndexError\u001b[0m                                Traceback (most recent call last)",
      "\u001b[1;32m/Volumes/GoogleDrive-108630187434314716047/My Drive/yale/uspheres/radon/radon_spectrum.ipynb Cell 12\u001b[0m in \u001b[0;36m<cell line: 2>\u001b[0;34m()\u001b[0m\n\u001b[1;32m      <a href='vscode-notebook-cell:/Volumes/GoogleDrive-108630187434314716047/My%20Drive/yale/uspheres/radon/radon_spectrum.ipynb#X12sZmlsZQ%3D%3D?line=0'>1</a>\u001b[0m plt\u001b[39m.\u001b[39mfigure(figsize\u001b[39m=\u001b[39m(\u001b[39m8\u001b[39m,\u001b[39m6\u001b[39m))\n\u001b[0;32m----> <a href='vscode-notebook-cell:/Volumes/GoogleDrive-108630187434314716047/My%20Drive/yale/uspheres/radon/radon_spectrum.ipynb#X12sZmlsZQ%3D%3D?line=1'>2</a>\u001b[0m cal_fac \u001b[39m=\u001b[39m \u001b[39m6051\u001b[39m\u001b[39m/\u001b[39mbc[np\u001b[39m.\u001b[39;49margmax(h)]\n\u001b[1;32m      <a href='vscode-notebook-cell:/Volumes/GoogleDrive-108630187434314716047/My%20Drive/yale/uspheres/radon/radon_spectrum.ipynb#X12sZmlsZQ%3D%3D?line=2'>3</a>\u001b[0m cal_fac_filt \u001b[39m=\u001b[39m \u001b[39m6051\u001b[39m\u001b[39m/\u001b[39mbcfilt[np\u001b[39m.\u001b[39margmax(hfilt)]\n\u001b[1;32m      <a href='vscode-notebook-cell:/Volumes/GoogleDrive-108630187434314716047/My%20Drive/yale/uspheres/radon/radon_spectrum.ipynb#X12sZmlsZQ%3D%3D?line=4'>5</a>\u001b[0m cal_dat \u001b[39m=\u001b[39m filt_dat[:,\u001b[39m3\u001b[39m] \u001b[39m*\u001b[39m cal_fac\n",
      "\u001b[0;31mIndexError\u001b[0m: index 300 is out of bounds for axis 0 with size 99"
     ]
    },
    {
     "data": {
      "text/plain": [
       "<Figure size 576x432 with 0 Axes>"
      ]
     },
     "metadata": {},
     "output_type": "display_data"
    }
   ],
   "source": [
    "plt.figure(figsize=(8,6))\n",
    "cal_fac = 6051/bc[np.argmax(h)]\n",
    "cal_fac_filt = 6051/bcfilt[np.argmax(hfilt)]\n",
    "\n",
    "cal_dat = filt_dat[:,3] * cal_fac\n",
    "\n",
    "plt.plot(bc*cal_fac, h)\n",
    "plt.plot(bcfilt*cal_fac_filt, hfilt)\n",
    "yy = plt.ylim()\n",
    "for k in alpha_dict.keys():\n",
    "    plt.plot(alpha_dict[k]*np.ones(2), yy, '--', label=k)\n",
    "\n",
    "plt.legend()\n",
    "plt.xlim(5000,10000)\n",
    "plt.xlabel(\"Energy [keV]\")\n",
    "plt.ylabel(\"Counts\")\n",
    "plt.show()"
   ]
  },
  {
   "cell_type": "code",
   "execution_count": 85,
   "metadata": {},
   "outputs": [
    {
     "data": {
      "text/plain": [
       "(5800.0, 7000.0)"
      ]
     },
     "execution_count": 85,
     "metadata": {},
     "output_type": "execute_result"
    },
    {
     "data": {
      "image/png": "[encoded data removed]",
      "text/plain": [
       "<Figure size 432x288 with 1 Axes>"
      ]
     },
     "metadata": {
      "needs_background": "light"
     },
     "output_type": "display_data"
    }
   ],
   "source": [
    "po216 = (cal_dat > 6700) & (cal_dat < 6800)\n",
    "\n",
    "rn220 = np.roll(po216,-1)\n",
    "junk = np.roll(po216,1)\n",
    "\n",
    "bins = np.linspace(0, 10000, 100)\n",
    "h1, b = np.histogram(cal_dat[rn220], bins=bins)\n",
    "h2, b = np.histogram(cal_dat[junk], bins=bins)\n",
    "bc = b[:-1] + np.diff(b)/2\n",
    "\n",
    "plt.figure()\n",
    "plt.plot(bc, h1, 'b')\n",
    "plt.plot(bc, h2, 'r')"
   ]
  },
  {
   "cell_type": "code",
   "execution_count": null,
   "metadata": {},
   "outputs": [],
   "source": []
  }
 ],
 "metadata": {
  "kernelspec": {
   "display_name": "Python 3.9.10 64-bit",
   "language": "python",
   "name": "python3"
  },
  "language_info": {
   "codemirror_mode": {
    "name": "ipython",
    "version": 3
   },
   "file_extension": ".py",
   "mimetype": "text/x-python",
   "name": "python",
   "nbconvert_exporter": "python",
   "pygments_lexer": "ipython3",
   "version": "3.9.10"
  },
  "orig_nbformat": 4,
  "vscode": {
   "interpreter": {
    "hash": "aee8b7b246df8f9039afb4144a1f6fd8d2ca17a180786b69acc140d282b71a49"
   }
  }
 },
 "nbformat": 4,
 "nbformat_minor": 2
}
