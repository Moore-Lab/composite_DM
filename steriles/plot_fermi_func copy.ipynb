{
 "cells": [
  {
   "cell_type": "code",
   "execution_count": 2,
   "metadata": {},
   "outputs": [],
   "source": [
    "import numpy as np\n",
    "import matplotlib.pyplot as plt\n",
    "import usphere_utils as uu"
   ]
  },
  {
   "cell_type": "code",
   "execution_count": 29,
   "metadata": {},
   "outputs": [
    {
     "data": {
      "image/png": "[encoded data removed]",
      "text/plain": [
       "<Figure size 432x288 with 1 Axes>"
      ]
     },
     "metadata": {
      "needs_background": "light"
     },
     "output_type": "display_data"
    }
   ],
   "source": [
    "A, Z = 100, 45\n",
    "Q = 0.1\n",
    "e = np.linspace(1000e-6,Q,100000)\n",
    "\n",
    "#plt.figure()\n",
    "#plt.plot(e, uu.fermi_func(A, -(Z+1), e))\n",
    "#plt.plot(e, uu.fermi_func(A, (Z+1), e))\n",
    "\n",
    "Ev = Q - e\n",
    "\n",
    "plt.figure()\n",
    "b1 = uu.simple_beta(e, Q, 0, A, Z)\n",
    "b1 /= np.max(b1)\n",
    "\n",
    "b2 = uu.simple_beta(e, Q, 50e-6, A, Z)\n",
    "b2/= np.max(b2)\n",
    "\n",
    "#b2 = uu.simple_beta(e, Q, 0)*uu.fermi_func(A, -(Z+1), e)\n",
    "#b2 /= np.max(b2)\n",
    "#b3 = uu.simple_beta(e, Q, 0)*uu.fermi_func(A, (Z+1), e)\n",
    "#b3 /= np.max(b3)\n",
    "\n",
    "plt.semilogy(Ev*1e3, b1)\n",
    "plt.semilogy(Ev*1e3, b2)\n",
    "\n",
    "plt.xlim(0,1)\n",
    "plt.show()"
   ]
  },
  {
   "cell_type": "code",
   "execution_count": null,
   "metadata": {},
   "outputs": [],
   "source": []
  }
 ],
 "metadata": {
  "interpreter": {
   "hash": "aee8b7b246df8f9039afb4144a1f6fd8d2ca17a180786b69acc140d282b71a49"
  },
  "kernelspec": {
   "display_name": "Python 3.9.10 64-bit",
   "language": "python",
   "name": "python3"
  },
  "language_info": {
   "codemirror_mode": {
    "name": "ipython",
    "version": 3
   },
   "file_extension": ".py",
   "mimetype": "text/x-python",
   "name": "python",
   "nbconvert_exporter": "python",
   "pygments_lexer": "ipython3",
   "version": "3.9.10"
  },
  "orig_nbformat": 4
 },
 "nbformat": 4,
 "nbformat_minor": 2
}
