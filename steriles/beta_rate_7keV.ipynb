{
 "cells": [
  {
   "cell_type": "code",
   "execution_count": 1,
   "metadata": {},
   "outputs": [],
   "source": [
    "import numpy as np\n",
    "import matplotlib.pyplot as plt\n",
    "import usphere_utils as uu"
   ]
  },
  {
   "cell_type": "code",
   "execution_count": 9,
   "metadata": {},
   "outputs": [
    {
     "name": "stdout",
     "output_type": "stream",
     "text": [
      "Sterile evs for h_3 1225.1893544257473\n",
      "Sterile evs for s_35 6.004003645405927\n"
     ]
    },
    {
     "data": {
      "image/png": "[encoded data removed]",
      "text/plain": [
       "<Figure size 432x288 with 1 Axes>"
      ]
     },
     "metadata": {
      "needs_background": "light"
     },
     "output_type": "display_data"
    },
    {
     "data": {
      "image/png": "[encoded data removed]",
      "text/plain": [
       "<Figure size 432x288 with 1 Axes>"
      ]
     },
     "metadata": {
      "needs_background": "light"
     },
     "output_type": "display_data"
    }
   ],
   "source": [
    "iso_list = ['h_3','s_35']\n",
    "\n",
    "livetime = 365 ## 1 year\n",
    "sphere_rad = 25e-9 ## fixed, although might need to change later\n",
    "num_spheres = 1\n",
    "trig_prob = 1\n",
    "mnu = 0\n",
    "loading_frac = 1e-2\n",
    "\n",
    "m_sph = 4/3 * np.pi * sphere_rad**3 * uu.rho\n",
    "\n",
    "plt.figure()\n",
    "tot_num = []\n",
    "for iso in iso_list:\n",
    "\n",
    "    iso_dat = np.loadtxt(\"/Users/dcmoore/grace/impulse/steriles/data_files/%s.txt\"%iso, delimiter=',', skiprows=3)\n",
    "    Q, t12, A, Z = iso_dat[0, :]\n",
    "    curr_Q = Q\n",
    "\n",
    "    n_nuclei = m_sph * uu.N_A/A * loading_frac * num_spheres\n",
    "\n",
    "    if(livetime < t12):\n",
    "        n_decays = int(trig_prob * n_nuclei * (1 - 0.5**(livetime/t12) ))\n",
    "    else:\n",
    "        ## assume the sphere is reloaded once per half-life\n",
    "        niters = np.floor(livetime/t12)\n",
    "        livetime_remain = livetime % t12\n",
    "        #print(\"Working on %d halflives and %f days remaining\"%(niters, livetime_remain))\n",
    "        n_decays = niters * 0.5*n_nuclei + int(trig_prob * n_nuclei * (1 - 0.5**(livetime_remain/t12) ))\n",
    "\n",
    "    elec_e_vals = np.linspace(0.01,curr_Q,1000)\n",
    "\n",
    "    curr_spec = uu.simple_beta(elec_e_vals, curr_Q, mnu, A, Z)\n",
    "    norm_fac = n_decays/np.trapz(curr_spec, elec_e_vals)\n",
    "\n",
    "    plt.plot( elec_e_vals, norm_fac * curr_spec )\n",
    "\n",
    "    ## find total number of events within 7 keV of endpoint\n",
    "    gpts = elec_e_vals > curr_Q - 7\n",
    "    sterile_evs = np.trapz(norm_fac * curr_spec[gpts], elec_e_vals[gpts])\n",
    "    tot_num.append(sterile_evs)\n",
    "    print(\"Sterile evs for %s\"%iso, sterile_evs)\n",
    "\n",
    "plt.figure()\n",
    "plt.plot(tot_num, 'ko')\n",
    "plt.gca().set_xticks(range(len(iso_list)))\n",
    "plt.gca().set_xticklabels(iso_list)\n",
    "\n",
    "plt.show()"
   ]
  },
  {
   "cell_type": "code",
   "execution_count": null,
   "metadata": {},
   "outputs": [],
   "source": []
  }
 ],
 "metadata": {
  "interpreter": {
   "hash": "aee8b7b246df8f9039afb4144a1f6fd8d2ca17a180786b69acc140d282b71a49"
  },
  "kernelspec": {
   "display_name": "Python 3.9.10 64-bit",
   "language": "python",
   "name": "python3"
  },
  "language_info": {
   "codemirror_mode": {
    "name": "ipython",
    "version": 3
   },
   "file_extension": ".py",
   "mimetype": "text/x-python",
   "name": "python",
   "nbconvert_exporter": "python",
   "pygments_lexer": "ipython3",
   "version": "3.9.10"
  },
  "orig_nbformat": 4
 },
 "nbformat": 4,
 "nbformat_minor": 2
}
