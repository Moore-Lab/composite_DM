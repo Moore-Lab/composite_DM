{
 "cells": [
  {
   "cell_type": "code",
   "execution_count": 23,
   "metadata": {},
   "outputs": [],
   "source": [
    "import numpy as np\n",
    "import matplotlib.pyplot as plt\n",
    "from matplotlib.patches import Rectangle"
   ]
  },
  {
   "cell_type": "code",
   "execution_count": 24,
   "metadata": {},
   "outputs": [
    {
     "name": "stdout",
     "output_type": "stream",
     "text": [
      "0.10531756190559324 0.9374504898670334\n"
     ]
    }
   ],
   "source": [
    "hbar = 6.582e-16 # eV s\n",
    "omega = 2*np.pi * 100 ## Hz\n",
    "m = 3.4e13/8 ## mass of 5 nm graphene flake in eV\n",
    "c = 3e8 #m/s\n",
    "m_to_um = 1e6\n",
    "eV_to_meV = 1e3\n",
    "\n",
    "x0 = np.sqrt(hbar/(2*m/c**2*omega)) * m_to_um ## in micron\n",
    "p0 = np.sqrt(hbar * m * omega/2) #* eV_to_meV ## in meV\n",
    "print(x0, p0)"
   ]
  },
  {
   "cell_type": "code",
   "execution_count": 25,
   "metadata": {},
   "outputs": [],
   "source": [
    "def get_prob(npts, squeeze_fac):\n",
    "    npts = int(npts)\n",
    "    rand_x = np.random.randn(npts)*3*x0\n",
    "    rand_p = np.random.randn(npts)*3*p0\n",
    "    prob = np.exp( -squeeze_fac*(rand_x/x0)**2 - 1/squeeze_fac*(rand_p/p0)**2 )\n",
    "    prob /= np.max(prob)\n",
    "    gpts = np.random.rand(npts) < prob\n",
    "\n",
    "    x, p = rand_x[gpts], rand_p[gpts]\n",
    "\n",
    "    return x, p"
   ]
  },
  {
   "cell_type": "code",
   "execution_count": 34,
   "metadata": {},
   "outputs": [
    {
     "name": "stderr",
     "output_type": "stream",
     "text": [
      "/var/folders/sz/h29lm_2j53v8vmw0zm_6hxqm0000gn/T/ipykernel_10564/4021698403.py:72: UserWarning: This figure includes Axes that are not compatible with tight_layout, so results might be incorrect.\n",
      "  plt.savefig('squeeze.pdf', dpi=300)\n",
      "/var/folders/sz/h29lm_2j53v8vmw0zm_6hxqm0000gn/T/ipykernel_10564/4021698403.py:72: UserWarning: This figure includes Axes that are not compatible with tight_layout, so results might be incorrect.\n",
      "  plt.savefig('squeeze.pdf', dpi=300)\n",
      "/usr/local/lib/python3.9/site-packages/IPython/core/pylabtools.py:151: UserWarning: This figure includes Axes that are not compatible with tight_layout, so results might be incorrect.\n",
      "  fig.canvas.print_figure(bytes_io, **kw)\n"
     ]
    },
    {
     "data": {
      "image/png": "[encoded data removed]",
      "text/plain": [
       "<Figure size 360x180 with 3 Axes>"
      ]
     },
     "metadata": {
      "needs_background": "light"
     },
     "output_type": "display_data"
    }
   ],
   "source": [
    "#x,p = np.linspace(-1,1,100), np.linspace(-500,500,100) ## um and meV\n",
    "\n",
    "#xx, pp = np.meshgrid(x,p)\n",
    "\n",
    "plt_scale = 8\n",
    "squeeze_db = 20\n",
    "squeeze_fac = 10**(-squeeze_db/10)\n",
    "\n",
    "pts_scale = 10\n",
    "fig = plt.figure(figsize = (5,2.5))\n",
    "fig.set_tight_layout(True)\n",
    "plt.subplot(1, 2, 1)\n",
    "x, p = get_prob(4e5, 1)\n",
    "plt.scatter(x, p, c='r', s=1, alpha=0.03, rasterized=True)\n",
    "plt.xlim(-plt_scale*x0,plt_scale*x0)\n",
    "#plt.xlim(-0.75, 0.75)\n",
    "#plt.ylim(-6,6)\n",
    "plt.ylim(-plt_scale*p0,plt_scale*p0)\n",
    "\n",
    "## now squeeze\n",
    "#rand_x = np.random.randn(npts)*3*x0\n",
    "#rand_p = np.random.randn(npts)*3*p0\n",
    "#prob = np.exp( -squeeze_fac*(rand_x/x0)**2 - 1/squeeze_fac*(rand_p/p0)**2 )\n",
    "#prob /= np.max(prob)\n",
    "#gpts = np.random.rand(npts) < prob\n",
    "x, p = get_prob(pts_scale*1e5, squeeze_fac)\n",
    "plt.scatter(x,p, c='b', s=1, alpha=0.01, rasterized=True)\n",
    "#xx, pp = np.meshgrid( np.linspace(-5*x0,5*x0,100), np.linspace(-5*p0,5*p0,100) )\n",
    "#prob = np.exp( -0.5*(xx/x0)**2 - 0.5*(pp/p0)**2 )\n",
    "#plt.contour(xx, pp, prob, levels=[0.32], colors='r')\n",
    "\n",
    "plt.gca().set_aspect(x0/p0)\n",
    "\n",
    "plt.xlabel('$x$ [$\\mu$m]', labelpad=0)\n",
    "plt.ylabel('$p$ [eV]', labelpad=0)\n",
    "\n",
    "plt.subplot(1, 2, 2)\n",
    "\n",
    "x, p = get_prob(pts_scale*1.5e5, squeeze_fac)\n",
    "plt.scatter(x, p + 0.100, c='b', s=1, alpha=0.03, rasterized=True)\n",
    "\n",
    "x, p = get_prob(pts_scale*1.5e5, squeeze_fac)\n",
    "plt.scatter(x, p - 0.100, c='g', s=1, alpha=0.03, rasterized=True)\n",
    "\n",
    "plt.xlim(-plt_scale*x0,plt_scale*x0)\n",
    "#plt.xlim(-0.75, 0.75)\n",
    "yrescale = 0.1 #0.25\n",
    "plt.ylim(-plt_scale*p0,plt_scale*p0)\n",
    "\n",
    "plt.gca().set_aspect(x0/p0) # * 1/yrescale)\n",
    "plt.xlabel('$x$ [$\\mu$m]', labelpad=0)\n",
    "plt.tight_layout()\n",
    "#plt.ylabel('$p$ [eV]')\n",
    "\n",
    "plt.gca().add_patch(Rectangle((-0.8, -0.6), 1.6, 1.2, ec='k', fc='none', ls=\":\"))\n",
    "\n",
    "axins = plt.axes((0.75, 0.65, 0.2, 0.25))\n",
    "x, p = get_prob(pts_scale*0.5e5, squeeze_fac)\n",
    "axins.scatter(x, p + 0.100, c='b', s=1, alpha=0.03, rasterized=True)\n",
    "\n",
    "x, p = get_prob(pts_scale*0.5e5, squeeze_fac)\n",
    "axins.scatter(x, p - 0.100, c='g', s=1, alpha=0.03, rasterized=True)\n",
    "\n",
    "plt.xlim(-plt_scale*x0,plt_scale*x0)\n",
    "#plt.xlim(-0.75, 0.75)\n",
    "yrescale = 0.05 #0.25\n",
    "plt.ylim(-plt_scale*p0*yrescale,plt_scale*p0*yrescale)\n",
    "axins.set_xticklabels([])\n",
    "axins.set_xticks([])\n",
    "\n",
    "\n",
    "plt.savefig('squeeze.pdf', dpi=300)\n",
    "plt.show()"
   ]
  },
  {
   "cell_type": "code",
   "execution_count": null,
   "metadata": {},
   "outputs": [],
   "source": []
  },
  {
   "cell_type": "code",
   "execution_count": null,
   "metadata": {},
   "outputs": [],
   "source": []
  }
 ],
 "metadata": {
  "kernelspec": {
   "display_name": "Python 3.9.10 64-bit",
   "language": "python",
   "name": "python3"
  },
  "language_info": {
   "codemirror_mode": {
    "name": "ipython",
    "version": 3
   },
   "file_extension": ".py",
   "mimetype": "text/x-python",
   "name": "python",
   "nbconvert_exporter": "python",
   "pygments_lexer": "ipython3",
   "version": "3.9.10"
  },
  "orig_nbformat": 4,
  "vscode": {
   "interpreter": {
    "hash": "aee8b7b246df8f9039afb4144a1f6fd8d2ca17a180786b69acc140d282b71a49"
   }
  }
 },
 "nbformat": 4,
 "nbformat_minor": 2
}
