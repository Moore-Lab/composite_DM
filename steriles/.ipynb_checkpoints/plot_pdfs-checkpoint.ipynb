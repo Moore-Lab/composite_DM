{
 "cells": [
  {
   "cell_type": "code",
   "execution_count": 5,
   "metadata": {},
   "outputs": [],
   "source": [
    "import os\n",
    "import numpy as np\n",
    "import matplotlib.pyplot as plt"
   ]
  },
  {
   "cell_type": "code",
   "execution_count": 6,
   "metadata": {},
   "outputs": [
    {
     "name": "stdout",
     "output_type": "stream",
     "text": [
      "10\n"
     ]
    }
   ],
   "source": [
    "## make some job files for Ar\n",
    "num_per_chunk = 1e7\n",
    "nmc_zero_mass = 1e10\n",
    "nmc_nonzero_mass = 1e8\n",
    "num_reps_per_file = 100\n",
    "\n",
    "iso = \"ar_37\"\n",
    "mnu = 0\n",
    "\n",
    "job_file = \"/home/dcm42/impulse/steriles/job_files/ar_37_jobs.txt\"\n",
    "jf = open(job_file, 'wt')\n",
    "nchunks = int(nmc_zero_mass/(num_reps_per_file*num_per_chunk))\n",
    "print(nchunks)\n",
    "for i in range(nchunks):\n",
    "    jf.write(\"module load miniconda; source activate; conda activate py37_dev; python calculate_pdfs.py %s %.1f %d %d\\n\"%(iso, mnu, num_reps_per_file, i))\n",
    "jf.close()\n",
    "\n",
    "# 100 reps and 1e7 per chunk is 1.5 gb and 15 minutes\n",
    "# dsq --job-file job_files/ar_37_jobs.txt --mem-per-cpu 4g -t 30:00 --mail-type NONE\n",
    "\n",
    "iso_dat = np.loadtxt(\"/home/dcm42/impulse/steriles/data_files/%s.txt\"%iso, delimiter=',', skiprows=3)\n",
    "Q, t12, A = iso_dat[0, :]\n",
    "## now as a function of sterile mass\n",
    "mass_list = np.linspace(1, Q, 100)\n"
   ]
  },
  {
   "cell_type": "code",
   "execution_count": 2,
   "metadata": {},
   "outputs": [],
   "source": [
    "nfiles = 10\n",
    "for i in range(nfiles):\n",
    "    pdf = np.load(\"data_files/ar_37_mnu_0.0_pdf_%d.npz\"%i)\n",
    "    \n",
    "    if(i==0):\n",
    "        p = pdf['pdf']\n",
    "    else:\n",
    "        p += pdf['pdf']\n",
    "\n",
    "x = pdf['x']"
   ]
  },
  {
   "cell_type": "code",
   "execution_count": 4,
   "metadata": {},
   "outputs": [
    {
     "data": {
      "image/png": "[encoded data removed]",
      "text/plain": [
       "<Figure size 432x288 with 1 Axes>"
      ]
     },
     "metadata": {
      "needs_background": "light"
     },
     "output_type": "display_data"
    }
   ],
   "source": [
    "plt.figure()\n",
    "plt.semilogy(x, p)\n",
    "plt.show()"
   ]
  },
  {
   "cell_type": "code",
   "execution_count": null,
   "metadata": {},
   "outputs": [],
   "source": []
  }
 ],
 "metadata": {
  "interpreter": {
   "hash": "9f0132ac5986a3472e7174dd7feae57644a1afa44b94c3f9a822b0aec6e1a668"
  },
  "kernelspec": {
   "display_name": "Python 3 (ipykernel)",
   "language": "python",
   "name": "python3"
  },
  "language_info": {
   "codemirror_mode": {
    "name": "ipython",
    "version": 3
   },
   "file_extension": ".py",
   "mimetype": "text/x-python",
   "name": "python",
   "nbconvert_exporter": "python",
   "pygments_lexer": "ipython3",
   "version": "3.7.10"
  }
 },
 "nbformat": 4,
 "nbformat_minor": 2
}
