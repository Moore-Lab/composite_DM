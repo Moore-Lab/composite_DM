{
 "cells": [
  {
   "cell_type": "code",
   "execution_count": 23,
   "metadata": {},
   "outputs": [],
   "source": [
    "import os, glob\n",
    "import numpy as np\n",
    "import matplotlib.pyplot as plt\n",
    "from scipy.interpolate import interp1d"
   ]
  },
  {
   "cell_type": "code",
   "execution_count": 38,
   "metadata": {},
   "outputs": [
    {
     "name": "stderr",
     "output_type": "stream",
     "text": [
      "/var/folders/sz/h29lm_2j53v8vmw0zm_6hxqm0000gn/T/ipykernel_72088/732388558.py:16: DeprecationWarning: NpzFile.iterkeys is deprecated in python 3, to match the removal of dict.iterkeys. Use .keys() instead.\n",
      "  [print(k) for k in cdat.iterkeys()]\n",
      "/var/folders/sz/h29lm_2j53v8vmw0zm_6hxqm0000gn/T/ipykernel_72088/732388558.py:16: DeprecationWarning: NpzFile.iterkeys is deprecated in python 3, to match the removal of dict.iterkeys. Use .keys() instead.\n",
      "  [print(k) for k in cdat.iterkeys()]\n",
      "/var/folders/sz/h29lm_2j53v8vmw0zm_6hxqm0000gn/T/ipykernel_72088/732388558.py:16: DeprecationWarning: NpzFile.iterkeys is deprecated in python 3, to match the removal of dict.iterkeys. Use .keys() instead.\n",
      "  [print(k) for k in cdat.iterkeys()]\n"
     ]
    },
    {
     "name": "stdout",
     "output_type": "stream",
     "text": [
      "m\n",
      "lim\n",
      "params\n",
      "cp /Users/dcmoore/grace/impulse/steriles/limits/h_3_limit_2.0e-01_10_365.0_25.0_1.0e+03.npz /Users/dcmoore/grace/impulse/steriles/limits/h_3_limit_2.0e-01_10_365.0_25.0_1.0e+03_old.npz\n",
      "m\n",
      "lim\n",
      "params\n",
      "cp /Users/dcmoore/grace/impulse/steriles/limits/h_3_limit_2.0e-01_1000_365.0_25.0_1.0e+03.npz /Users/dcmoore/grace/impulse/steriles/limits/h_3_limit_2.0e-01_1000_365.0_25.0_1.0e+03_old.npz\n",
      "m\n",
      "lim\n",
      "params\n",
      "cp /Users/dcmoore/grace/impulse/steriles/limits/p_32_limit_1.0e-02_1000_365.0_100.0_1.0e+05.npz /Users/dcmoore/grace/impulse/steriles/limits/p_32_limit_1.0e-02_1000_365.0_100.0_1.0e+05_old.npz\n"
     ]
    },
    {
     "data": {
      "image/png": "[encoded data removed]",
      "text/plain": [
       "<Figure size 432x288 with 1 Axes>"
      ]
     },
     "metadata": {
      "needs_background": "light"
     },
     "output_type": "display_data"
    }
   ],
   "source": [
    "iso_dict = {\"h_3\": [[0.2, 10, 365, 25, 1e3],[0.2, 1000, 365, 25, 1e3],],\n",
    "            \"p_32\": [[1e-2, 1000, 365, 100, 1e5],]\n",
    "        }\n",
    "\n",
    "\n",
    "iso_list = iso_dict.keys()\n",
    "\n",
    "plt.figure()\n",
    "for iso in iso_list:\n",
    "    for params_to_use in iso_dict[iso]:\n",
    "        f = glob.glob(\"/Users/dcmoore/grace/impulse/steriles/limits/%s*%.1e_%d_%.1f_%.1f_%.1e.npz\"%(iso,*params_to_use))\n",
    "\n",
    "        cdat = np.load(f[0])\n",
    "        x = cdat['m']\n",
    "        lim_vals = cdat['lim'] \n",
    "\n",
    "        plt.loglog(x, lim_vals)  \n",
    "\n",
    "        if(iso == 'h_3'):\n",
    "            gpts = (x < 6.2) | (x > 9)\n",
    "            lim_vals[~gpts] = np.exp(np.interp(x[~gpts], x[gpts], np.log(lim_vals[gpts])))\n",
    "        elif(iso == 'p_32'):\n",
    "            gpts = ~np.isnan(lim_vals)\n",
    "            ff = interp1d(x[gpts], np.log(lim_vals[gpts]), kind='cubic')\n",
    "            ipts = ~gpts & (x < 1700)\n",
    "            lim_vals[ipts] = np.exp(ff(x[ipts]))\n",
    "\n",
    "        plt.loglog(x, lim_vals, \":\")  \n",
    "\n",
    "        cfile = f[0]\n",
    "        cfile_old = cfile.replace(\".npz\", \"_old.npz\")\n",
    "        com = \"cp %s %s\"%(cfile, cfile_old)\n",
    "        print(com)\n",
    "        \n",
    "        #os.system(com)\n",
    "        #np.savez(cfile, m=x, lim=lim_vals, params=cdat['params'])"
   ]
  },
  {
   "cell_type": "code",
   "execution_count": null,
   "metadata": {},
   "outputs": [],
   "source": []
  }
 ],
 "metadata": {
  "interpreter": {
   "hash": "aee8b7b246df8f9039afb4144a1f6fd8d2ca17a180786b69acc140d282b71a49"
  },
  "kernelspec": {
   "display_name": "Python 3.9.10 64-bit",
   "language": "python",
   "name": "python3"
  },
  "language_info": {
   "codemirror_mode": {
    "name": "ipython",
    "version": 3
   },
   "file_extension": ".py",
   "mimetype": "text/x-python",
   "name": "python",
   "nbconvert_exporter": "python",
   "pygments_lexer": "ipython3",
   "version": "3.9.10"
  },
  "orig_nbformat": 4
 },
 "nbformat": 4,
 "nbformat_minor": 2
}
