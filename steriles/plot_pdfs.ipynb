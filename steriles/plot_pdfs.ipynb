{
 "cells": [
  {
   "cell_type": "code",
   "execution_count": null,
   "metadata": {},
   "outputs": [
    {
     "ename": "",
     "evalue": "",
     "output_type": "error",
     "traceback": [
      "\u001b[1;31mFailed to start the Kernel. \n",
      "request to http://localhost:8888/api/sessions?1650554250834 failed, reason: connect ECONNREFUSED 127.0.0.1:8888. \n",
      "View Jupyter <a href='command:jupyter.viewOutput'>log</a> for further details."
     ]
    }
   ],
   "source": [
    "import os, glob, pickle\n",
    "import numpy as np\n",
    "import matplotlib.pyplot as plt"
   ]
  },
  {
   "cell_type": "code",
   "execution_count": 56,
   "metadata": {},
   "outputs": [
    {
     "name": "stdout",
     "output_type": "stream",
     "text": [
      "10\n"
     ]
    }
   ],
   "source": [
    "## make some job files for Ar\n",
    "num_per_chunk = 1e7\n",
    "nmc_zero_mass = 1e10\n",
    "nmc_nonzero_mass = 1e8\n",
    "num_reps_per_file = 100\n",
    "\n",
    "iso = \"ar_37\"\n",
    "mnu = 0\n",
    "\n",
    "job_file = \"/Users/dcmoore/grace/impulse/steriles/job_files/ar_37_jobs.txt\"\n",
    "jf = open(job_file, 'wt')\n",
    "nchunks = int(nmc_zero_mass/(num_reps_per_file*num_per_chunk))\n",
    "print(nchunks)\n",
    "for i in range(nchunks):\n",
    "    jf.write(\"module load miniconda; source activate; conda activate py37_dev; python calculate_pdfs.py %s %.1f %d %d\\n\"%(iso, mnu, num_reps_per_file, i))\n",
    "jf.close()\n",
    "\n",
    "# 100 reps and 1e7 per chunk is 1.5 gb and 15 minutes\n",
    "# dsq --job-file job_files/ar_37_jobs.txt --mem-per-cpu 4g -t 30:00 --mail-type NONE\n",
    "\n",
    "\n",
    "## now for non zero masses\n",
    "job_file = \"/Users/dcmoore/grace/impulse/steriles/job_files/ar_37_nonzero_jobs.txt\"\n",
    "jf = open(job_file, 'wt')\n",
    "num_reps_per_file = int(nmc_nonzero_mass/num_per_chunk)\n",
    "iso_dat = np.loadtxt(\"/Users/dcmoore/grace/impulse/steriles/data_files/%s.txt\"%iso, delimiter=',', skiprows=3)\n",
    "Q, t12, A = iso_dat[0, :]\n",
    "## now as a function of sterile mass\n",
    "mass_list = np.linspace(1, Q, 100)\n",
    "nmasses_per_file = 5\n",
    "nchunks = int(len(mass_list)/nmasses_per_file)\n",
    "for i in range(nchunks):\n",
    "    curr_masses = mass_list[(i*nmasses_per_file):((i+1)*nmasses_per_file)]\n",
    "    curr_str = [\"%.1f\"%j for j in curr_masses]\n",
    "    mnu = ','.join(curr_str)\n",
    "    jf.write(\"module load miniconda; source activate; conda activate py37_dev; python calculate_pdfs.py %s %s %d %d\\n\"%(iso, mnu, num_reps_per_file, 0))\n",
    "jf.close()\n",
    "\n",
    "# 10 reps x 5 masses and 1e7 per chunk is 1.5 gb and 7.5 minutes\n",
    "# dsq --job-file job_files/ar_37_nonzero_jobs.txt --mem-per-cpu 4g -t 30:00 --mail-type NONE\n"
   ]
  },
  {
   "cell_type": "code",
   "execution_count": 57,
   "metadata": {},
   "outputs": [
    {
     "name": "stdout",
     "output_type": "stream",
     "text": [
      "working on 10 files for ar_37 with mnu = 0.0: \n"
     ]
    },
    {
     "ename": "OSError",
     "evalue": "[Errno 5] Input/output error",
     "output_type": "error",
     "traceback": [
      "\u001b[0;31m---------------------------------------------------------------------------\u001b[0m",
      "\u001b[0;31mOSError\u001b[0m                                   Traceback (most recent call last)",
      "File \u001b[0;32m/usr/local/lib/python3.9/site-packages/numpy/lib/npyio.py:424\u001b[0m, in \u001b[0;36mload\u001b[0;34m(file, mmap_mode, allow_pickle, fix_imports, encoding)\u001b[0m\n\u001b[1;32m    <a href='file:///usr/local/lib/python3.9/site-packages/numpy/lib/npyio.py?line=422'>423</a>\u001b[0m N \u001b[39m=\u001b[39m \u001b[39mlen\u001b[39m(\u001b[39mformat\u001b[39m\u001b[39m.\u001b[39mMAGIC_PREFIX)\n\u001b[0;32m--> <a href='file:///usr/local/lib/python3.9/site-packages/numpy/lib/npyio.py?line=423'>424</a>\u001b[0m magic \u001b[39m=\u001b[39m fid\u001b[39m.\u001b[39;49mread(N)\n\u001b[1;32m    <a href='file:///usr/local/lib/python3.9/site-packages/numpy/lib/npyio.py?line=424'>425</a>\u001b[0m \u001b[39m# If the file size is less than N, we need to make sure not\u001b[39;00m\n\u001b[1;32m    <a href='file:///usr/local/lib/python3.9/site-packages/numpy/lib/npyio.py?line=425'>426</a>\u001b[0m \u001b[39m# to seek past the beginning of the file\u001b[39;00m\n",
      "\u001b[0;31mOSError\u001b[0m: [Errno 5] Input/output error",
      "\nDuring handling of the above exception, another exception occurred:\n",
      "\u001b[0;31mOSError\u001b[0m                                   Traceback (most recent call last)",
      "\u001b[1;32m/Volumes/GoogleDrive-108630187434314716047/My Drive/yale/uspheres/impulse/impulse/steriles/plot_pdfs.ipynb Cell 3'\u001b[0m in \u001b[0;36m<cell line: 18>\u001b[0;34m()\u001b[0m\n\u001b[1;32m     <a href='vscode-notebook-cell:/Volumes/GoogleDrive-108630187434314716047/My%20Drive/yale/uspheres/impulse/impulse/steriles/plot_pdfs.ipynb#ch0000002?line=36'>37</a>\u001b[0m \u001b[39mprint\u001b[39m(\u001b[39m\"\u001b[39m\u001b[39mworking on \u001b[39m\u001b[39m%d\u001b[39;00m\u001b[39m files for \u001b[39m\u001b[39m%s\u001b[39;00m\u001b[39m with mnu = \u001b[39m\u001b[39m%s\u001b[39;00m\u001b[39m: \u001b[39m\u001b[39m\"\u001b[39m\u001b[39m%\u001b[39m(nfiles, iso, mnu))\n\u001b[1;32m     <a href='vscode-notebook-cell:/Volumes/GoogleDrive-108630187434314716047/My%20Drive/yale/uspheres/impulse/impulse/steriles/plot_pdfs.ipynb#ch0000002?line=38'>39</a>\u001b[0m \u001b[39mfor\u001b[39;00m i \u001b[39min\u001b[39;00m \u001b[39mrange\u001b[39m(nfiles):\n\u001b[0;32m---> <a href='vscode-notebook-cell:/Volumes/GoogleDrive-108630187434314716047/My%20Drive/yale/uspheres/impulse/impulse/steriles/plot_pdfs.ipynb#ch0000002?line=39'>40</a>\u001b[0m     pdf \u001b[39m=\u001b[39m np\u001b[39m.\u001b[39;49mload(iso_files[i])\n\u001b[1;32m     <a href='vscode-notebook-cell:/Volumes/GoogleDrive-108630187434314716047/My%20Drive/yale/uspheres/impulse/impulse/steriles/plot_pdfs.ipynb#ch0000002?line=41'>42</a>\u001b[0m     \u001b[39mif\u001b[39;00m(i\u001b[39m==\u001b[39m\u001b[39m0\u001b[39m):\n\u001b[1;32m     <a href='vscode-notebook-cell:/Volumes/GoogleDrive-108630187434314716047/My%20Drive/yale/uspheres/impulse/impulse/steriles/plot_pdfs.ipynb#ch0000002?line=42'>43</a>\u001b[0m         p \u001b[39m=\u001b[39m pdf[\u001b[39m'\u001b[39m\u001b[39mpdf\u001b[39m\u001b[39m'\u001b[39m]\n",
      "File \u001b[0;32m/usr/local/lib/python3.9/site-packages/numpy/lib/npyio.py:450\u001b[0m, in \u001b[0;36mload\u001b[0;34m(file, mmap_mode, allow_pickle, fix_imports, encoding)\u001b[0m\n\u001b[1;32m    <a href='file:///usr/local/lib/python3.9/site-packages/numpy/lib/npyio.py?line=447'>448</a>\u001b[0m     \u001b[39mreturn\u001b[39;00m pickle\u001b[39m.\u001b[39mload(fid, \u001b[39m*\u001b[39m\u001b[39m*\u001b[39mpickle_kwargs)\n\u001b[1;32m    <a href='file:///usr/local/lib/python3.9/site-packages/numpy/lib/npyio.py?line=448'>449</a>\u001b[0m \u001b[39mexcept\u001b[39;00m \u001b[39mException\u001b[39;00m \u001b[39mas\u001b[39;00m e:\n\u001b[0;32m--> <a href='file:///usr/local/lib/python3.9/site-packages/numpy/lib/npyio.py?line=449'>450</a>\u001b[0m     \u001b[39mraise\u001b[39;00m \u001b[39mIOError\u001b[39;00m(\n\u001b[1;32m    <a href='file:///usr/local/lib/python3.9/site-packages/numpy/lib/npyio.py?line=450'>451</a>\u001b[0m         \u001b[39m\"\u001b[39m\u001b[39mFailed to interpret file \u001b[39m\u001b[39m%s\u001b[39;00m\u001b[39m as a pickle\u001b[39m\u001b[39m\"\u001b[39m \u001b[39m%\u001b[39m \u001b[39mrepr\u001b[39m(file)) \u001b[39mfrom\u001b[39;00m \u001b[39me\u001b[39;00m\n",
      "File \u001b[0;32m/usr/local/Cellar/python@3.9/3.9.10/Frameworks/Python.framework/Versions/3.9/lib/python3.9/contextlib.py:532\u001b[0m, in \u001b[0;36mExitStack.__exit__\u001b[0;34m(self, *exc_details)\u001b[0m\n\u001b[1;32m    <a href='file:///usr/local/Cellar/python%403.9/3.9.10/Frameworks/Python.framework/Versions/3.9/lib/python3.9/contextlib.py?line=527'>528</a>\u001b[0m \u001b[39mtry\u001b[39;00m:\n\u001b[1;32m    <a href='file:///usr/local/Cellar/python%403.9/3.9.10/Frameworks/Python.framework/Versions/3.9/lib/python3.9/contextlib.py?line=528'>529</a>\u001b[0m     \u001b[39m# bare \"raise exc_details[1]\" replaces our carefully\u001b[39;00m\n\u001b[1;32m    <a href='file:///usr/local/Cellar/python%403.9/3.9.10/Frameworks/Python.framework/Versions/3.9/lib/python3.9/contextlib.py?line=529'>530</a>\u001b[0m     \u001b[39m# set-up context\u001b[39;00m\n\u001b[1;32m    <a href='file:///usr/local/Cellar/python%403.9/3.9.10/Frameworks/Python.framework/Versions/3.9/lib/python3.9/contextlib.py?line=530'>531</a>\u001b[0m     fixed_ctx \u001b[39m=\u001b[39m exc_details[\u001b[39m1\u001b[39m]\u001b[39m.\u001b[39m__context__\n\u001b[0;32m--> <a href='file:///usr/local/Cellar/python%403.9/3.9.10/Frameworks/Python.framework/Versions/3.9/lib/python3.9/contextlib.py?line=531'>532</a>\u001b[0m     \u001b[39mraise\u001b[39;00m exc_details[\u001b[39m1\u001b[39m]\n\u001b[1;32m    <a href='file:///usr/local/Cellar/python%403.9/3.9.10/Frameworks/Python.framework/Versions/3.9/lib/python3.9/contextlib.py?line=532'>533</a>\u001b[0m \u001b[39mexcept\u001b[39;00m \u001b[39mBaseException\u001b[39;00m:\n\u001b[1;32m    <a href='file:///usr/local/Cellar/python%403.9/3.9.10/Frameworks/Python.framework/Versions/3.9/lib/python3.9/contextlib.py?line=533'>534</a>\u001b[0m     exc_details[\u001b[39m1\u001b[39m]\u001b[39m.\u001b[39m__context__ \u001b[39m=\u001b[39m fixed_ctx\n",
      "File \u001b[0;32m/usr/local/Cellar/python@3.9/3.9.10/Frameworks/Python.framework/Versions/3.9/lib/python3.9/contextlib.py:517\u001b[0m, in \u001b[0;36mExitStack.__exit__\u001b[0;34m(self, *exc_details)\u001b[0m\n\u001b[1;32m    <a href='file:///usr/local/Cellar/python%403.9/3.9.10/Frameworks/Python.framework/Versions/3.9/lib/python3.9/contextlib.py?line=514'>515</a>\u001b[0m \u001b[39massert\u001b[39;00m is_sync\n\u001b[1;32m    <a href='file:///usr/local/Cellar/python%403.9/3.9.10/Frameworks/Python.framework/Versions/3.9/lib/python3.9/contextlib.py?line=515'>516</a>\u001b[0m \u001b[39mtry\u001b[39;00m:\n\u001b[0;32m--> <a href='file:///usr/local/Cellar/python%403.9/3.9.10/Frameworks/Python.framework/Versions/3.9/lib/python3.9/contextlib.py?line=516'>517</a>\u001b[0m     \u001b[39mif\u001b[39;00m cb(\u001b[39m*\u001b[39;49mexc_details):\n\u001b[1;32m    <a href='file:///usr/local/Cellar/python%403.9/3.9.10/Frameworks/Python.framework/Versions/3.9/lib/python3.9/contextlib.py?line=517'>518</a>\u001b[0m         suppressed_exc \u001b[39m=\u001b[39m \u001b[39mTrue\u001b[39;00m\n\u001b[1;32m    <a href='file:///usr/local/Cellar/python%403.9/3.9.10/Frameworks/Python.framework/Versions/3.9/lib/python3.9/contextlib.py?line=518'>519</a>\u001b[0m         pending_raise \u001b[39m=\u001b[39m \u001b[39mFalse\u001b[39;00m\n",
      "\u001b[0;31mOSError\u001b[0m: [Errno 5] Input/output error"
     ]
    }
   ],
   "source": [
    "## collect and plot files from a given directory\n",
    "\n",
    "data_dir = \"/Users/dcmoore/grace/impulse/steriles/data_files/\"\n",
    "save_dir = \"/Users/dcmoore/grace/impulse/steriles/pdfs/\"\n",
    "save_files = False\n",
    "\n",
    "file_list = glob.glob(data_dir + \"*.npz\")\n",
    "\n",
    "iso_list = []\n",
    "## assumes file name starts with isotope in the form \"el_A\"\n",
    "for f in file_list:\n",
    "    cfile = os.path.split(f)[-1]\n",
    "    fp = cfile.split('_')\n",
    "    ciso = fp[0] + \"_\" + fp[1]\n",
    "    if not ciso in iso_list:\n",
    "        iso_list.append(ciso)\n",
    "\n",
    "for iso in iso_list:\n",
    "\n",
    "    curr_dict = {} ## dictionary to hold pdfs\n",
    "\n",
    "    iso_files = glob.glob(data_dir + iso + \"*.npz\")\n",
    "\n",
    "    ## make a list of the masses for that iso\n",
    "    mnu_list = []\n",
    "    for f in iso_files:\n",
    "        cfile = os.path.split(f)[-1]\n",
    "        fp = cfile.split('_')\n",
    "        cmnu = fp[3]\n",
    "        if not cmnu in mnu_list:\n",
    "            mnu_list.append(cmnu)\n",
    "\n",
    "    for mnu in mnu_list:\n",
    "\n",
    "        curr_iso_files = glob.glob(data_dir + iso + \"_mnu_\" + mnu + \"*.npz\")\n",
    "        nfiles = len(curr_iso_files)\n",
    "        print(\"working on %d files for %s with mnu = %s: \"%(nfiles, iso, mnu))\n",
    "\n",
    "        for i in range(nfiles):\n",
    "            pdf = np.load(curr_iso_files[i])\n",
    "            \n",
    "            if(i==0):\n",
    "                p = pdf['pdf']\n",
    "            else:\n",
    "                p += pdf['pdf']\n",
    "\n",
    "        x = pdf['x']\n",
    "\n",
    "        cdf = np.cumsum(p)/np.sum(p)\n",
    "\n",
    "        curr_dict[mnu] = np.vstack((x,p,cdf)).T\n",
    "\n",
    "    if(save_files):\n",
    "        of = open(save_dir + \"%s_pdfs.pkl\"%iso, \"wb\")\n",
    "        pickle.dump(curr_dict, of)\n",
    "        of.close()"
   ]
  },
  {
   "cell_type": "code",
   "execution_count": 47,
   "metadata": {},
   "outputs": [
    {
     "name": "stderr",
     "output_type": "stream",
     "text": [
      "Exception ignored in: <function NpzFile.__del__ at 0x1114a3940>\n",
      "Traceback (most recent call last):\n",
      "  File \"/usr/local/lib/python3.9/site-packages/numpy/lib/npyio.py\", line 224, in __del__\n",
      "    self.close()\n",
      "  File \"/usr/local/lib/python3.9/site-packages/numpy/lib/npyio.py\", line 219, in close\n",
      "    self.fid.close()\n",
      "OSError: [Errno 5] Input/output error\n",
      "Exception ignored in: <function NpzFile.__del__ at 0x1114a3940>\n",
      "Traceback (most recent call last):\n",
      "  File \"/usr/local/lib/python3.9/site-packages/numpy/lib/npyio.py\", line 224, in __del__\n",
      "    self.close()\n",
      "  File \"/usr/local/lib/python3.9/site-packages/numpy/lib/npyio.py\", line 219, in close\n",
      "    self.fid.close()\n",
      "OSError: [Errno 5] Input/output error\n"
     ]
    },
    {
     "data": {
      "image/png": "[encoded data removed]",
      "text/plain": [
       "<Figure size 432x288 with 1 Axes>"
      ]
     },
     "metadata": {
      "needs_background": "light"
     },
     "output_type": "display_data"
    }
   ],
   "source": [
    "of = open(save_dir + '%s_pdfs.pkl'%iso, 'rb')\n",
    "pdfs = pickle.load(of)\n",
    "of.close()\n",
    "\n",
    "\n",
    "mass_list_str = pdfs.keys()\n",
    "mass_list = []\n",
    "for m in mass_list_str:\n",
    "  cmass = float(m)\n",
    "  if(cmass > 0):\n",
    "    mass_list.append(cmass)\n",
    "\n",
    "mass_list = sorted(mass_list)\n",
    "\n",
    "ulim = np.ones_like(mass_list)*1e6\n",
    "bkg_pdf = pdfs['0.0']\n",
    "plt.figure()\n",
    "plt.semilogy(bkg_pdf[:,0], bkg_pdf[:,1], 'k')\n",
    "for i,m in enumerate(mass_list):\n",
    "  sig_pdf = pdfs['%.1f'%m]\n",
    "  plt.semilogy(sig_pdf[:,0], sig_pdf[:,1])\n"
   ]
  },
  {
   "cell_type": "code",
   "execution_count": null,
   "metadata": {},
   "outputs": [],
   "source": []
  }
 ],
 "metadata": {
  "interpreter": {
   "hash": "9f0132ac5986a3472e7174dd7feae57644a1afa44b94c3f9a822b0aec6e1a668"
  },
  "kernelspec": {
   "display_name": "Python 3 (ipykernel)",
   "language": "python",
   "name": "python3"
  },
  "language_info": {
   "codemirror_mode": {
    "name": "ipython",
    "version": 3
   },
   "file_extension": ".py",
   "mimetype": "text/x-python",
   "name": "python",
   "nbconvert_exporter": "python",
   "pygments_lexer": "ipython3",
   "version": "3.9.10"
  }
 },
 "nbformat": 4,
 "nbformat_minor": 2
}
