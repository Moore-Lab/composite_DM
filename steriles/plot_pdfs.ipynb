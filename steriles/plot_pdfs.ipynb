{
 "cells": [
  {
   "cell_type": "code",
   "execution_count": 9,
   "metadata": {},
   "outputs": [],
   "source": [
    "import os, glob\n",
    "import numpy as np\n",
    "import matplotlib.pyplot as plt"
   ]
  },
  {
   "cell_type": "code",
   "execution_count": 2,
   "metadata": {},
   "outputs": [
    {
     "ename": "FileNotFoundError",
     "evalue": "[Errno 2] No such file or directory: '/home/dcm42/impulse/steriles/job_files/ar_37_jobs.txt'",
     "output_type": "error",
     "traceback": [
      "\u001b[0;31m---------------------------------------------------------------------------\u001b[0m",
      "\u001b[0;31mFileNotFoundError\u001b[0m                         Traceback (most recent call last)",
      "\u001b[1;32m/Volumes/GoogleDrive-108630187434314716047/My Drive/yale/uspheres/impulse/impulse/steriles/plot_pdfs.ipynb Cell 2'\u001b[0m in \u001b[0;36m<cell line: 11>\u001b[0;34m()\u001b[0m\n\u001b[1;32m      <a href='vscode-notebook-cell:/Volumes/GoogleDrive-108630187434314716047/My%20Drive/yale/uspheres/impulse/impulse/steriles/plot_pdfs.ipynb#ch0000001?line=7'>8</a>\u001b[0m mnu \u001b[39m=\u001b[39m \u001b[39m0\u001b[39m\n\u001b[1;32m     <a href='vscode-notebook-cell:/Volumes/GoogleDrive-108630187434314716047/My%20Drive/yale/uspheres/impulse/impulse/steriles/plot_pdfs.ipynb#ch0000001?line=9'>10</a>\u001b[0m job_file \u001b[39m=\u001b[39m \u001b[39m\"\u001b[39m\u001b[39m/home/dcm42/impulse/steriles/job_files/ar_37_jobs.txt\u001b[39m\u001b[39m\"\u001b[39m\n\u001b[0;32m---> <a href='vscode-notebook-cell:/Volumes/GoogleDrive-108630187434314716047/My%20Drive/yale/uspheres/impulse/impulse/steriles/plot_pdfs.ipynb#ch0000001?line=10'>11</a>\u001b[0m jf \u001b[39m=\u001b[39m \u001b[39mopen\u001b[39;49m(job_file, \u001b[39m'\u001b[39;49m\u001b[39mwt\u001b[39;49m\u001b[39m'\u001b[39;49m)\n\u001b[1;32m     <a href='vscode-notebook-cell:/Volumes/GoogleDrive-108630187434314716047/My%20Drive/yale/uspheres/impulse/impulse/steriles/plot_pdfs.ipynb#ch0000001?line=11'>12</a>\u001b[0m nchunks \u001b[39m=\u001b[39m \u001b[39mint\u001b[39m(nmc_zero_mass\u001b[39m/\u001b[39m(num_reps_per_file\u001b[39m*\u001b[39mnum_per_chunk))\n\u001b[1;32m     <a href='vscode-notebook-cell:/Volumes/GoogleDrive-108630187434314716047/My%20Drive/yale/uspheres/impulse/impulse/steriles/plot_pdfs.ipynb#ch0000001?line=12'>13</a>\u001b[0m \u001b[39mprint\u001b[39m(nchunks)\n",
      "\u001b[0;31mFileNotFoundError\u001b[0m: [Errno 2] No such file or directory: '/home/dcm42/impulse/steriles/job_files/ar_37_jobs.txt'"
     ]
    }
   ],
   "source": [
    "## make some job files for Ar\n",
    "num_per_chunk = 1e7\n",
    "nmc_zero_mass = 1e10\n",
    "nmc_nonzero_mass = 1e8\n",
    "num_reps_per_file = 100\n",
    "\n",
    "iso = \"ar_37\"\n",
    "mnu = 0\n",
    "\n",
    "job_file = \"/home/dcm42/impulse/steriles/job_files/ar_37_jobs.txt\"\n",
    "jf = open(job_file, 'wt')\n",
    "nchunks = int(nmc_zero_mass/(num_reps_per_file*num_per_chunk))\n",
    "print(nchunks)\n",
    "for i in range(nchunks):\n",
    "    jf.write(\"module load miniconda; source activate; conda activate py37_dev; python calculate_pdfs.py %s %.1f %d %d\\n\"%(iso, mnu, num_reps_per_file, i))\n",
    "jf.close()\n",
    "\n",
    "# 100 reps and 1e7 per chunk is 1.5 gb and 15 minutes\n",
    "# dsq --job-file job_files/ar_37_jobs.txt --mem-per-cpu 4g -t 30:00 --mail-type NONE\n",
    "\n",
    "iso_dat = np.loadtxt(\"/home/dcm42/impulse/steriles/data_files/%s.txt\"%iso, delimiter=',', skiprows=3)\n",
    "Q, t12, A = iso_dat[0, :]\n",
    "## now as a function of sterile mass\n",
    "mass_list = np.linspace(1, Q, 100)\n"
   ]
  },
  {
   "cell_type": "code",
   "execution_count": 16,
   "metadata": {},
   "outputs": [
    {
     "name": "stdout",
     "output_type": "stream",
     "text": [
      "['ar_37']\n",
      "working on 10 files for ar_37 with mnu = 0.0: \n"
     ]
    }
   ],
   "source": [
    "## collect and plot files from a given directory\n",
    "\n",
    "data_dir = \"/Users/dcmoore/grace/impulse/steriles/data_files/\"\n",
    "save_dir = \"/Volumes/GoogleDrive-108630187434314716047/My Drive/yale/uspheres/impulse/impulse/steriles/pdfs/\"\n",
    "save_files = True\n",
    "\n",
    "\n",
    "\n",
    "file_list = glob.glob(data_dir + \"*.npz\")\n",
    "\n",
    "iso_list = []\n",
    "## assumes file name starts with isotope in the form \"el_A\"\n",
    "for f in file_list:\n",
    "    cfile = os.path.split(f)[-1]\n",
    "    fp = cfile.split('_')\n",
    "    ciso = fp[0] + \"_\" + fp[1]\n",
    "    if not ciso in iso_list:\n",
    "        iso_list.append(ciso)\n",
    "\n",
    "for iso in iso_list:\n",
    "\n",
    "    iso_files = glob.glob(data_dir + iso + \"*.npz\")\n",
    "\n",
    "    ## make a list of the masses for that iso\n",
    "    mnu_list = []\n",
    "    for f in iso_files:\n",
    "        cfile = os.path.split(f)[-1]\n",
    "        fp = cfile.split('_')\n",
    "        cmnu = fp[3]\n",
    "        if not cmnu in mnu_list:\n",
    "            mnu_list.append(cmnu)\n",
    "\n",
    "    for mnu in mnu_list:\n",
    "\n",
    "        curr_iso_files = glob.glob(data_dir + iso + \"_mnu_\" + mnu + \"*.npz\")\n",
    "        nfiles = len(curr_iso_files)\n",
    "        print(\"working on %d files for %s with mnu = %s: \"%(nfiles, iso, mnu))\n",
    "\n",
    "        for i in range(nfiles):\n",
    "            pdf = np.load(iso_files[i])\n",
    "            \n",
    "            if(i==0):\n",
    "                p = pdf['pdf']\n",
    "            else:\n",
    "                p += pdf['pdf']\n",
    "\n",
    "        x = pdf['x']\n",
    "\n",
    "        cdf = np.cumsum(p)/np.sum(p)\n",
    "\n",
    "        if(save_files):\n",
    "            np.savez(save_dir + iso + \"_\" + mnu + \"_pdf.npz\", 'x'=x, 'pdf'=p, 'cdf'=cdf)"
   ]
  },
  {
   "cell_type": "code",
   "execution_count": 13,
   "metadata": {},
   "outputs": [
    {
     "data": {
      "image/png": "[encoded data removed]",
      "text/plain": [
       "<Figure size 432x288 with 1 Axes>"
      ]
     },
     "metadata": {
      "needs_background": "light"
     },
     "output_type": "display_data"
    }
   ],
   "source": [
    "plt.figure()\n",
    "plt.semilogy(x, p)\n",
    "plt.show()"
   ]
  },
  {
   "cell_type": "code",
   "execution_count": null,
   "metadata": {},
   "outputs": [],
   "source": []
  }
 ],
 "metadata": {
  "interpreter": {
   "hash": "9f0132ac5986a3472e7174dd7feae57644a1afa44b94c3f9a822b0aec6e1a668"
  },
  "kernelspec": {
   "display_name": "Python 3 (ipykernel)",
   "language": "python",
   "name": "python3"
  },
  "language_info": {
   "codemirror_mode": {
    "name": "ipython",
    "version": 3
   },
   "file_extension": ".py",
   "mimetype": "text/x-python",
   "name": "python",
   "nbconvert_exporter": "python",
   "pygments_lexer": "ipython3",
   "version": "3.9.10"
  }
 },
 "nbformat": 4,
 "nbformat_minor": 2
}
